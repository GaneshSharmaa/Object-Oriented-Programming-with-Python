{
 "cells": [
  {
   "cell_type": "markdown",
   "id": "8c6055f5",
   "metadata": {},
   "source": [
    "# Static method"
   ]
  },
  {
   "cell_type": "markdown",
   "id": "c269ae85",
   "metadata": {},
   "source": [
    "**Problem:** Add a static method to the `Car` class that returns a general description of a car."
   ]
  },
  {
   "cell_type": "markdown",
   "id": "f92d9bc1",
   "metadata": {},
   "source": [
    "**Static method:** A static method is a method that belongs to a class rather than an instance of a class."
   ]
  },
  {
   "cell_type": "code",
   "execution_count": 19,
   "id": "f2317691",
   "metadata": {},
   "outputs": [],
   "source": [
    "class Car:\n",
    "    total_car = 0       # for keeping the count of how many objects are made\n",
    "\n",
    "    def __init__(self, brand, model):\n",
    "        self.__brand = brand\n",
    "        self.model = model\n",
    "        Car.total_car += 1      # we don't use self here instead directly class name\n",
    "\n",
    "    def full_name(self):\n",
    "        return f\"{self.__brand} {self.model}\"\n",
    "    \n",
    "    def fuel_type(self):\n",
    "        return \"Petrol or Diesel\"\n",
    "\n",
    "    @staticmethod       # by using `staticmethod` you don't need to write `self` parameter\n",
    "    def general_description():\n",
    "        return \"Cars are means of transport.\""
   ]
  },
  {
   "cell_type": "markdown",
   "id": "8ac15420",
   "metadata": {},
   "source": [
    "By using `@staticmethod` you don't need to write `self` parameter"
   ]
  },
  {
   "cell_type": "code",
   "execution_count": 20,
   "id": "296658c9",
   "metadata": {},
   "outputs": [
    {
     "name": "stdout",
     "output_type": "stream",
     "text": [
      "Car's description: Cars are means of transport.\n",
      "Car's description: Cars are means of transport.\n"
     ]
    }
   ],
   "source": [
    "my_car = Car(\"Tata\", \"Saffari\")\n",
    "print(f\"Car's description: {my_car.general_description()}\")     # accessing by the instance\n",
    "print(f\"Car's description: {Car.general_description()}\")"
   ]
  },
  {
   "cell_type": "code",
   "execution_count": null,
   "id": "bcea9ba9",
   "metadata": {},
   "outputs": [],
   "source": []
  }
 ],
 "metadata": {
  "kernelspec": {
   "display_name": "Python 3",
   "language": "python",
   "name": "python3"
  },
  "language_info": {
   "codemirror_mode": {
    "name": "ipython",
    "version": 3
   },
   "file_extension": ".py",
   "mimetype": "text/x-python",
   "name": "python",
   "nbconvert_exporter": "python",
   "pygments_lexer": "ipython3",
   "version": "3.12.4"
  }
 },
 "nbformat": 4,
 "nbformat_minor": 5
}
