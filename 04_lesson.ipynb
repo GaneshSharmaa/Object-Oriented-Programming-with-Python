{
 "cells": [
  {
   "cell_type": "markdown",
   "id": "bad117a8",
   "metadata": {},
   "source": [
    "# Polymorphism"
   ]
  },
  {
   "cell_type": "markdown",
   "id": "4efbc8a4",
   "metadata": {},
   "source": [
    "**Problem:** Demonstrate polymorphism by defining a method `fuel_type` in both Car and Electric_Car classes, but with different behaviors."
   ]
  },
  {
   "cell_type": "code",
   "execution_count": 6,
   "id": "ba3d16b0",
   "metadata": {},
   "outputs": [],
   "source": [
    "class Car:\n",
    "    total_car = 0       # for keeping the count of how many objects are made\n",
    "\n",
    "    def __init__(self, brand, model):\n",
    "        self.__brand = brand\n",
    "        self.model = model\n",
    "        Car.total_car += 1      # we don't use self here instead directly class name\n",
    "\n",
    "    def full_name(self):\n",
    "        return f\"{self.__brand} {self.model}\"\n",
    "    \n",
    "    def fuel_type(self):\n",
    "        return \"Petrol or Diesel\""
   ]
  },
  {
   "cell_type": "code",
   "execution_count": 7,
   "id": "021ecf35",
   "metadata": {},
   "outputs": [],
   "source": [
    "class Electric_Car(Car):\n",
    "    def __init__(self, brand, model, battery_size):\n",
    "        super().__init__(brand, model)      # super() method helps in accessing the attributes of the previous classes\n",
    "        self.battery_size = battery_size\n",
    "    \n",
    "    def fuel_type(self):\n",
    "        return \"electric charge\""
   ]
  },
  {
   "cell_type": "code",
   "execution_count": 8,
   "id": "865bbf63",
   "metadata": {},
   "outputs": [
    {
     "name": "stdout",
     "output_type": "stream",
     "text": [
      "My electric car is Tesla Model S and it's fuel type is electric charge.\n"
     ]
    }
   ],
   "source": [
    "my_ev_car = Electric_Car(\"Tesla\", \"Model S\", \"85 kWh\")\n",
    "print(f\"My electric car is {my_ev_car.full_name()} and it's fuel type is {my_ev_car.fuel_type()}.\")"
   ]
  },
  {
   "cell_type": "code",
   "execution_count": 9,
   "id": "2fd79493",
   "metadata": {},
   "outputs": [
    {
     "name": "stdout",
     "output_type": "stream",
     "text": [
      "My SUV is Tata Harrier and it's fuel type is Petrol or Diesel.\n"
     ]
    }
   ],
   "source": [
    "my_suv_car = Car(\"Tata\", \"Harrier\")\n",
    "print(f\"My SUV is {my_suv_car.full_name()} and it's fuel type is {my_suv_car.fuel_type()}.\")"
   ]
  },
  {
   "cell_type": "markdown",
   "id": "64c11d82",
   "metadata": {},
   "source": [
    "Here, in `Electric_Car` and `Car` both have method `fuel_type()` and they both have different values, this is what polymorphism is where you can have one method and it can have different values."
   ]
  },
  {
   "cell_type": "markdown",
   "id": "7860a3a4",
   "metadata": {},
   "source": [
    "#### Keeping count of the objects made"
   ]
  },
  {
   "cell_type": "markdown",
   "id": "8b757ff9",
   "metadata": {},
   "source": [
    "Here, while calling the attribute `total_car` we don't call it with the object, but instead with the class `Car` itself."
   ]
  },
  {
   "cell_type": "code",
   "execution_count": 10,
   "id": "ee21d457",
   "metadata": {},
   "outputs": [
    {
     "name": "stdout",
     "output_type": "stream",
     "text": [
      "The total count of the objects made are 2.\n"
     ]
    }
   ],
   "source": [
    "print(f\"The total count of the objects made are {Car.total_car}.\")"
   ]
  },
  {
   "cell_type": "code",
   "execution_count": null,
   "id": "3a27ea7e",
   "metadata": {},
   "outputs": [],
   "source": []
  }
 ],
 "metadata": {
  "kernelspec": {
   "display_name": "Python 3",
   "language": "python",
   "name": "python3"
  },
  "language_info": {
   "codemirror_mode": {
    "name": "ipython",
    "version": 3
   },
   "file_extension": ".py",
   "mimetype": "text/x-python",
   "name": "python",
   "nbconvert_exporter": "python",
   "pygments_lexer": "ipython3",
   "version": "3.12.4"
  }
 },
 "nbformat": 4,
 "nbformat_minor": 5
}
