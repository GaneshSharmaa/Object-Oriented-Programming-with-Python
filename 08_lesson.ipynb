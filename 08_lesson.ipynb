{
 "cells": [
  {
   "cell_type": "markdown",
   "id": "c2237fc4",
   "metadata": {},
   "source": [
    "# Multiple inheritance"
   ]
  },
  {
   "cell_type": "markdown",
   "id": "41ba2915",
   "metadata": {},
   "source": [
    "**Problem:** Create two classes `Battery` and `Engine`, and let the `Electric_Car` class inherit from both, demonstrating multiple inheritances."
   ]
  },
  {
   "cell_type": "code",
   "execution_count": null,
   "id": "a2f4973a",
   "metadata": {},
   "outputs": [],
   "source": [
    "class Car:\n",
    "    total_car = 0       # for keeping the count of how many objects are made\n",
    "\n",
    "    def __init__(self, brand, model):\n",
    "        self.__brand = brand\n",
    "        self.__model = model\n",
    "        Car.total_car += 1      # we don't use self here instead directly class name\n",
    "\n",
    "    def full_name(self):\n",
    "        return f\"{self.__brand} {self.__model}\"\n",
    "    \n",
    "    def fuel_type(self):\n",
    "        return \"Petrol or Diesel\"\n",
    "\n",
    "    @staticmethod       # by using `staticmethod` decorator you don't need to write `self` parameter\n",
    "    def general_description():\n",
    "        return \"Cars are means of transport.\"\n",
    "    \n",
    "    @property           # by using `property` decorator you made the model read-only\n",
    "    def model(self):\n",
    "        return self.__model"
   ]
  },
  {
   "cell_type": "code",
   "execution_count": null,
   "id": "ce150fa7",
   "metadata": {},
   "outputs": [],
   "source": [
    "class Electric_Car(Car):\n",
    "    def __init__(self, brand, model, battery_size):\n",
    "        super().__init__(brand, model)      # super() method helps in accessing the attributes of the previous classes\n",
    "        self.battery_size = battery_size"
   ]
  },
  {
   "cell_type": "code",
   "execution_count": null,
   "id": "4c65e2fb",
   "metadata": {},
   "outputs": [
    {
     "name": "stdout",
     "output_type": "stream",
     "text": [
      "My car is Tata Safari.\n",
      "My car is Tesla Model S.\n"
     ]
    }
   ],
   "source": [
    "my_car = Car(\"Tata\", \"Safari\")\n",
    "my_ev = Electric_Car(\"Tesla\", \"Model S\", \"85 kWh\")\n",
    "\n",
    "print(f\"My car is {my_car.full_name()}.\")\n",
    "print(f\"My car is {my_ev.full_name()}.\")"
   ]
  }
 ],
 "metadata": {
  "kernelspec": {
   "display_name": "Python 3",
   "language": "python",
   "name": "python3"
  },
  "language_info": {
   "name": "python",
   "version": "3.12.4"
  }
 },
 "nbformat": 4,
 "nbformat_minor": 5
}
