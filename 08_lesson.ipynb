{
 "cells": [
  {
   "cell_type": "markdown",
   "id": "c2237fc4",
   "metadata": {},
   "source": [
    "# Multiple inheritance"
   ]
  },
  {
   "cell_type": "markdown",
   "id": "41ba2915",
   "metadata": {},
   "source": [
    "**Problem:** Create two classes `Battery` and `Engine`, and let the `Electric_Car` class inherit from both, demonstrating multiple inheritances."
   ]
  },
  {
   "cell_type": "code",
   "execution_count": 37,
   "id": "a2f4973a",
   "metadata": {},
   "outputs": [],
   "source": [
    "class Car:\n",
    "    total_car = 0       # for keeping the count of how many objects are made\n",
    "\n",
    "    def __init__(self, brand, model):\n",
    "        self.__brand = brand\n",
    "        self.__model = model\n",
    "        Car.total_car += 1      # we don't use self here instead directly class name\n",
    "\n",
    "    def full_name(self):\n",
    "        return f\"{self.__brand} {self.__model}\"\n",
    "    \n",
    "    def fuel_type(self):\n",
    "        return \"Petrol or Diesel\"\n",
    "\n",
    "    @staticmethod       # by using `staticmethod` decorator you don't need to write `self` parameter\n",
    "    def general_description():\n",
    "        return \"Cars are means of transport.\"\n",
    "    \n",
    "    @property           # by using `property` decorator you made the model read-only\n",
    "    def model(self):\n",
    "        return self.__model"
   ]
  },
  {
   "cell_type": "code",
   "execution_count": 38,
   "id": "ce150fa7",
   "metadata": {},
   "outputs": [],
   "source": [
    "class Electric_Car(Car):\n",
    "    def __init__(self, brand, model, battery_size):\n",
    "        super().__init__(brand, model)      # super() method helps in accessing the attributes of the previous classes\n",
    "        self.battery_size = battery_size"
   ]
  },
  {
   "cell_type": "code",
   "execution_count": 39,
   "id": "4c65e2fb",
   "metadata": {},
   "outputs": [
    {
     "name": "stdout",
     "output_type": "stream",
     "text": [
      "My car is Tata Safari.\n",
      "My car is Tesla Model S.\n"
     ]
    }
   ],
   "source": [
    "my_car = Car(\"Tata\", \"Safari\")\n",
    "my_ev = Electric_Car(\"Tesla\", \"Model S\", \"85 kWh\")\n",
    "\n",
    "print(f\"My car is {my_car.full_name()}.\")\n",
    "print(f\"My car is {my_ev.full_name()}.\")"
   ]
  },
  {
   "cell_type": "markdown",
   "id": "67fa4f64",
   "metadata": {},
   "source": [
    "#### Creating a class `Battery`"
   ]
  },
  {
   "cell_type": "code",
   "execution_count": 40,
   "id": "8398285c",
   "metadata": {},
   "outputs": [],
   "source": [
    "class Battery:\n",
    "    def battery_info(self):\n",
    "        return \"100 kWh\""
   ]
  },
  {
   "cell_type": "markdown",
   "id": "16b3cf29",
   "metadata": {},
   "source": [
    "#### Creating a class `Engine`"
   ]
  },
  {
   "cell_type": "code",
   "execution_count": 41,
   "id": "a54d6811",
   "metadata": {},
   "outputs": [],
   "source": [
    "class Engine:\n",
    "    def engine_info(self):\n",
    "        return \"500 Nm torque\""
   ]
  },
  {
   "cell_type": "code",
   "execution_count": 42,
   "id": "f9654c2f",
   "metadata": {},
   "outputs": [],
   "source": [
    "class Electric_Car2(Battery, Engine, Car):\n",
    "    pass"
   ]
  },
  {
   "cell_type": "code",
   "execution_count": 43,
   "id": "c22b76b3",
   "metadata": {},
   "outputs": [
    {
     "name": "stdout",
     "output_type": "stream",
     "text": [
      "My new EV is Mahindra XEV 9E and it's battery size is 100 kWh with 500 Nm torque engine.\n"
     ]
    }
   ],
   "source": [
    "my_new_ev = Electric_Car2(\"Mahindra\", \"XEV 9E\")\n",
    "print(f\"My new EV is {my_new_ev.full_name()} and it's battery size is {my_new_ev.battery_info()} with {my_new_ev.engine_info()} engine.\")"
   ]
  },
  {
   "cell_type": "code",
   "execution_count": null,
   "id": "e3ec04f8",
   "metadata": {},
   "outputs": [],
   "source": []
  }
 ],
 "metadata": {
  "kernelspec": {
   "display_name": "Python 3",
   "language": "python",
   "name": "python3"
  },
  "language_info": {
   "codemirror_mode": {
    "name": "ipython",
    "version": 3
   },
   "file_extension": ".py",
   "mimetype": "text/x-python",
   "name": "python",
   "nbconvert_exporter": "python",
   "pygments_lexer": "ipython3",
   "version": "3.12.4"
  }
 },
 "nbformat": 4,
 "nbformat_minor": 5
}
