{
 "cells": [
  {
   "cell_type": "markdown",
   "id": "bf4a288b",
   "metadata": {},
   "source": [
    "**Problem:** Use a property decorator in the `Car` class to make the model attribute read-only."
   ]
  },
  {
   "cell_type": "code",
   "execution_count": null,
   "id": "9a25b717",
   "metadata": {},
   "outputs": [],
   "source": [
    "class Car:\n",
    "    total_car = 0       # for keeping the count of how many objects are made\n",
    "\n",
    "    def __init__(self, brand, model):\n",
    "        self.__brand = brand\n",
    "        self.__model = model\n",
    "        Car.total_car += 1      # we don't use self here instead directly class name\n",
    "\n",
    "    def full_name(self):\n",
    "        return f\"{self.__brand} {self.__model}\"\n",
    "    \n",
    "    def fuel_type(self):\n",
    "        return \"Petrol or Diesel\"\n",
    "\n",
    "    @staticmethod       # by using `staticmethod` decorator you don't need to write `self` parameter\n",
    "    def general_description():\n",
    "        return \"Cars are means of transport.\"\n",
    "    \n",
    "    @property           # by using `property` decorator you made the model read-only\n",
    "    def model(self):\n",
    "        return self.__model"
   ]
  },
  {
   "cell_type": "markdown",
   "id": "63c1454e",
   "metadata": {},
   "source": [
    "`@property` decorator made the method `model()` read-only. This way you won't be able to change the `model` attribute."
   ]
  },
  {
   "cell_type": "code",
   "execution_count": 48,
   "id": "6c326305",
   "metadata": {},
   "outputs": [
    {
     "name": "stdout",
     "output_type": "stream",
     "text": [
      "My car is Tata Safari.\n"
     ]
    }
   ],
   "source": [
    "my_car = Car(\"Tata\", \"Safari\")\n",
    "print(f\"My car is {my_car.full_name()}.\")"
   ]
  },
  {
   "cell_type": "markdown",
   "id": "90493a9b",
   "metadata": {},
   "source": [
    "As you can see below, due to the `@property` decorator, the `model` attribute cannot be re-written and also cannot be accessed by a method (i.e. indirectly), it can only be read and accessed by calling the object's attribute (i.e. directly)."
   ]
  },
  {
   "cell_type": "code",
   "execution_count": 52,
   "id": "3e783091",
   "metadata": {},
   "outputs": [
    {
     "name": "stdout",
     "output_type": "stream",
     "text": [
      "My car is Safari.\n",
      "My car is Tata Safari.\n"
     ]
    }
   ],
   "source": [
    "# my_car.model = \"Nexon\"          # changing atttribute value, cannot be changed due to `@property` decorator\n",
    "print(f\"My car is {my_car.model}.\")     # can be accessed by directly calling attribute `model`\n",
    "# print(f\"My car is {my_car.model()}.\")     # cannot be accessed by method due to `@property` decorator\n",
    "print(f\"My car is {my_car.full_name()}.\")"
   ]
  },
  {
   "cell_type": "code",
   "execution_count": null,
   "id": "2894ad22",
   "metadata": {},
   "outputs": [],
   "source": []
  }
 ],
 "metadata": {
  "kernelspec": {
   "display_name": "Python 3",
   "language": "python",
   "name": "python3"
  },
  "language_info": {
   "codemirror_mode": {
    "name": "ipython",
    "version": 3
   },
   "file_extension": ".py",
   "mimetype": "text/x-python",
   "name": "python",
   "nbconvert_exporter": "python",
   "pygments_lexer": "ipython3",
   "version": "3.12.4"
  }
 },
 "nbformat": 4,
 "nbformat_minor": 5
}
