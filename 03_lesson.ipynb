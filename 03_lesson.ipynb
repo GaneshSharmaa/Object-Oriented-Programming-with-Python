{
 "cells": [
  {
   "cell_type": "markdown",
   "id": "1a47e420",
   "metadata": {},
   "source": [
    "# Encapsulation"
   ]
  },
  {
   "cell_type": "markdown",
   "id": "80580eb2",
   "metadata": {
    "vscode": {
     "languageId": "plaintext"
    }
   },
   "source": [
    "**Problem:** Modify the `Car` class to encapsulate the brand attribute, making it private, and provide a getter method for it"
   ]
  },
  {
   "cell_type": "markdown",
   "id": "9b48e02c",
   "metadata": {},
   "source": [
    "By adding two underscores at the beginning, you can make an attribute private, by which they cannot be accessed directly"
   ]
  },
  {
   "cell_type": "code",
   "execution_count": 8,
   "id": "29568152",
   "metadata": {},
   "outputs": [],
   "source": [
    "class Car:\n",
    "    def __init__(self, brand, model):\n",
    "        self.__brand = brand\n",
    "        self.model = model\n",
    "\n",
    "    def get_brand(self):\n",
    "        return self.__brand + \".\"\n",
    "\n",
    "    def full_name(self):\n",
    "        return f\"{self.__brand} {self.model}\""
   ]
  },
  {
   "cell_type": "markdown",
   "id": "1f56932f",
   "metadata": {},
   "source": [
    "We are not accessing the private attribute directly using objects but indirectly by using methods.\\\n",
    "Accessing them directly will give you an error and only way to access them is indirectly."
   ]
  },
  {
   "cell_type": "code",
   "execution_count": 11,
   "id": "88ee6f57",
   "metadata": {},
   "outputs": [
    {
     "name": "stdout",
     "output_type": "stream",
     "text": [
      "Tata.\n"
     ]
    }
   ],
   "source": [
    "my_car = Car(\"Tata\", \"Harrier\")\n",
    "# print(f\"My car's brand is {my_car.__brand} and model is {my_car.model}.\")     # this will give an error because it is directly accessing the private attribute\n",
    "print(f\"{my_car.get_brand()}\")      # this will run because it is accessing the private attribute using a method"
   ]
  },
  {
   "cell_type": "code",
   "execution_count": null,
   "id": "04274461",
   "metadata": {},
   "outputs": [],
   "source": []
  }
 ],
 "metadata": {
  "kernelspec": {
   "display_name": "Python 3",
   "language": "python",
   "name": "python3"
  },
  "language_info": {
   "codemirror_mode": {
    "name": "ipython",
    "version": 3
   },
   "file_extension": ".py",
   "mimetype": "text/x-python",
   "name": "python",
   "nbconvert_exporter": "python",
   "pygments_lexer": "ipython3",
   "version": "3.12.4"
  }
 },
 "nbformat": 4,
 "nbformat_minor": 5
}
