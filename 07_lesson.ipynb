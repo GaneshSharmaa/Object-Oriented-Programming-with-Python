{
 "cells": [
  {
   "cell_type": "markdown",
   "id": "ee57c931",
   "metadata": {},
   "source": [
    "# Class inheritance and `isinstance()` function"
   ]
  },
  {
   "cell_type": "markdown",
   "id": "c2a39e48",
   "metadata": {},
   "source": [
    "**Problem:** Demonstrate the use of `isinstance()` function to check if `my_ev` is an instance of `Car` and `Electric_Car`."
   ]
  },
  {
   "cell_type": "code",
   "execution_count": 1,
   "id": "93045f63",
   "metadata": {},
   "outputs": [],
   "source": [
    "class Car:\n",
    "    total_car = 0       # for keeping the count of how many objects are made\n",
    "\n",
    "    def __init__(self, brand, model):\n",
    "        self.__brand = brand\n",
    "        self.__model = model\n",
    "        Car.total_car += 1      # we don't use self here instead directly class name\n",
    "\n",
    "    def full_name(self):\n",
    "        return f\"{self.__brand} {self.__model}\"\n",
    "    \n",
    "    def fuel_type(self):\n",
    "        return \"Petrol or Diesel\"\n",
    "\n",
    "    @staticmethod       # by using `staticmethod` decorator you don't need to write `self` parameter\n",
    "    def general_description():\n",
    "        return \"Cars are means of transport.\"\n",
    "    \n",
    "    @property           # by using `property` decorator you made the model read-only\n",
    "    def model(self):\n",
    "        return self.__model"
   ]
  },
  {
   "cell_type": "code",
   "execution_count": 2,
   "id": "31c7b615",
   "metadata": {},
   "outputs": [],
   "source": [
    "class Electric_Car(Car):\n",
    "    def __init__(self, brand, model, battery_size):\n",
    "        super().__init__(brand, model)      # super() method helps in accessing the attributes of the previous classes\n",
    "        self.battery_size = battery_size"
   ]
  },
  {
   "cell_type": "code",
   "execution_count": 6,
   "id": "ab512257",
   "metadata": {},
   "outputs": [
    {
     "name": "stdout",
     "output_type": "stream",
     "text": [
      "My car is Tata Safari.\n",
      "My car is Tesla Model S.\n"
     ]
    }
   ],
   "source": [
    "my_car = Car(\"Tata\", \"Safari\")\n",
    "my_ev = Electric_Car(\"Tesla\", \"Model S\", \"85 kWh\")\n",
    "\n",
    "print(f\"My car is {my_car.full_name()}.\")\n",
    "print(f\"My car is {my_ev.full_name()}.\")"
   ]
  },
  {
   "cell_type": "code",
   "execution_count": 9,
   "id": "28af6622",
   "metadata": {},
   "outputs": [
    {
     "name": "stdout",
     "output_type": "stream",
     "text": [
      "True\n",
      "True\n"
     ]
    }
   ],
   "source": [
    "print(isinstance(my_ev, Car))\n",
    "print(isinstance(my_ev, Electric_Car))"
   ]
  },
  {
   "cell_type": "markdown",
   "id": "1329089e",
   "metadata": {},
   "source": [
    "From above, we now know that `my_ev` is an instance of both `Car` and `Electric_Car` class."
   ]
  },
  {
   "cell_type": "code",
   "execution_count": null,
   "id": "2bbe813d",
   "metadata": {},
   "outputs": [],
   "source": []
  }
 ],
 "metadata": {
  "kernelspec": {
   "display_name": "Python 3",
   "language": "python",
   "name": "python3"
  },
  "language_info": {
   "codemirror_mode": {
    "name": "ipython",
    "version": 3
   },
   "file_extension": ".py",
   "mimetype": "text/x-python",
   "name": "python",
   "nbconvert_exporter": "python",
   "pygments_lexer": "ipython3",
   "version": "3.12.4"
  }
 },
 "nbformat": 4,
 "nbformat_minor": 5
}
