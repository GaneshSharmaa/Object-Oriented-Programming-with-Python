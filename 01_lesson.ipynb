{
 "cells": [
  {
   "cell_type": "markdown",
   "id": "b432761a",
   "metadata": {},
   "source": [
    "# Object-Oriented Programming"
   ]
  },
  {
   "cell_type": "markdown",
   "id": "6e38ec5d",
   "metadata": {},
   "source": [
    "#### Defining class `Car` with attributes `brand` and `model`\n",
    "Here, the function named `__init__()` is a constructor and it is by default"
   ]
  },
  {
   "cell_type": "code",
   "execution_count": 9,
   "id": "ec33733c",
   "metadata": {},
   "outputs": [],
   "source": [
    "class Car:\n",
    "    def __init__(self, brand, model):\n",
    "        self.brand = brand\n",
    "        self.model = model"
   ]
  },
  {
   "cell_type": "markdown",
   "id": "9af0344e",
   "metadata": {},
   "source": [
    "#### Creating an instance of the class `Car`"
   ]
  },
  {
   "cell_type": "code",
   "execution_count": 6,
   "id": "f523be6d",
   "metadata": {},
   "outputs": [
    {
     "name": "stdout",
     "output_type": "stream",
     "text": [
      "The brand of my car is Toyota and model is Corolla.\n"
     ]
    }
   ],
   "source": [
    "my_car = Car(\"Toyota\", \"Corolla\")\n",
    "print(f\"The brand of my car is {my_car.brand} and model is {my_car.model}.\")"
   ]
  },
  {
   "cell_type": "markdown",
   "id": "fac1416e",
   "metadata": {},
   "source": [
    "#### Creating an another instance of the class `Car`"
   ]
  },
  {
   "cell_type": "code",
   "execution_count": 7,
   "id": "bb5e1832",
   "metadata": {},
   "outputs": [
    {
     "name": "stdout",
     "output_type": "stream",
     "text": [
      "Ganesh Sharma has a luxury car from BMW and it's model is X7.\n"
     ]
    }
   ],
   "source": [
    "my_luxury_car = Car(\"BMW\", \"X7\")\n",
    "print(f\"Ganesh Sharma has a luxury car from {my_luxury_car.brand} and it's model is {my_luxury_car.model}.\")"
   ]
  },
  {
   "cell_type": "markdown",
   "id": "033d8fb4",
   "metadata": {},
   "source": [
    "#### Adding a method to the `Car` class that displays the full name of the car (`brand` and `model`)"
   ]
  },
  {
   "cell_type": "code",
   "execution_count": 14,
   "id": "ae6125d6",
   "metadata": {},
   "outputs": [],
   "source": [
    "class Car:\n",
    "    def __init__(self, brand, model):\n",
    "        self.brand = brand\n",
    "        self.model = model\n",
    "\n",
    "    def full_name(self):\n",
    "        return f\"{self.brand} {self.model}\""
   ]
  },
  {
   "cell_type": "code",
   "execution_count": 16,
   "id": "4e7c0576",
   "metadata": {},
   "outputs": [
    {
     "name": "stdout",
     "output_type": "stream",
     "text": [
      "Tata Harrier\n"
     ]
    }
   ],
   "source": [
    "new_car = Car(\"Tata\", \"Harrier\")\n",
    "print(new_car.full_name())"
   ]
  },
  {
   "cell_type": "code",
   "execution_count": null,
   "id": "4f9f60c8",
   "metadata": {},
   "outputs": [],
   "source": []
  }
 ],
 "metadata": {
  "kernelspec": {
   "display_name": "Python 3",
   "language": "python",
   "name": "python3"
  },
  "language_info": {
   "codemirror_mode": {
    "name": "ipython",
    "version": 3
   },
   "file_extension": ".py",
   "mimetype": "text/x-python",
   "name": "python",
   "nbconvert_exporter": "python",
   "pygments_lexer": "ipython3",
   "version": "3.12.4"
  }
 },
 "nbformat": 4,
 "nbformat_minor": 5
}
