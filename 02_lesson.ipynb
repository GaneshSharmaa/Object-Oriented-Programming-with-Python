{
 "cells": [
  {
   "cell_type": "markdown",
   "id": "f64d652f",
   "metadata": {},
   "source": [
    "# Inheritance"
   ]
  },
  {
   "cell_type": "markdown",
   "id": "3cfa7647",
   "metadata": {},
   "source": [
    "**Problem:** Create an `Electric_Car` class that inherits from the `Car` class and has an additional attribute `battery_size`"
   ]
  },
  {
   "cell_type": "code",
   "execution_count": 8,
   "id": "ba5561d0",
   "metadata": {},
   "outputs": [],
   "source": [
    "class Car:\n",
    "    def __init__(self, brand, model):\n",
    "        self.brand = brand\n",
    "        self.model = model\n",
    "\n",
    "    def full_name(self):\n",
    "        return f\"{self.brand} {self.model}\""
   ]
  },
  {
   "cell_type": "markdown",
   "id": "cd7e4ece",
   "metadata": {},
   "source": [
    "`super()` function is used  to access the attributes of the previous classes"
   ]
  },
  {
   "cell_type": "code",
   "execution_count": 10,
   "id": "2bb49978",
   "metadata": {},
   "outputs": [],
   "source": [
    "class Electric_Car(Car):\n",
    "    def __init__(self, brand, model, battery_size):\n",
    "        super().__init__(brand, model)      # super() method helps in accessing the attributes of the previous classes\n",
    "        self.battery_size = battery_size"
   ]
  },
  {
   "cell_type": "code",
   "execution_count": 11,
   "id": "25b8b8d7",
   "metadata": {},
   "outputs": [
    {
     "name": "stdout",
     "output_type": "stream",
     "text": [
      "Tesla Model S\n"
     ]
    }
   ],
   "source": [
    "my_tesla = Electric_Car(\"Tesla\", \"Model S\", \"85 kWh\")\n",
    "print(my_tesla.full_name())"
   ]
  },
  {
   "cell_type": "code",
   "execution_count": null,
   "id": "92148fa1",
   "metadata": {},
   "outputs": [],
   "source": []
  }
 ],
 "metadata": {
  "kernelspec": {
   "display_name": "Python 3",
   "language": "python",
   "name": "python3"
  },
  "language_info": {
   "codemirror_mode": {
    "name": "ipython",
    "version": 3
   },
   "file_extension": ".py",
   "mimetype": "text/x-python",
   "name": "python",
   "nbconvert_exporter": "python",
   "pygments_lexer": "ipython3",
   "version": "3.12.4"
  }
 },
 "nbformat": 4,
 "nbformat_minor": 5
}
